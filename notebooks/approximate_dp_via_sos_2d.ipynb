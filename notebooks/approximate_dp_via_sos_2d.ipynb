{
 "cells": [
  {
   "cell_type": "code",
   "execution_count": null,
   "metadata": {},
   "outputs": [],
   "source": [
    "import numpy as np\n",
    "import matplotlib.pyplot as plt\n",
    "from sos4hjb.polynomials import Variable, MonomialVector, ChebyshevVector, Polynomial\n",
    "from sos4hjb.optimization.cvx import SosProgram\n",
    "from sos4hjb.plot_utils import level_plot"
   ]
  },
  {
   "cell_type": "markdown",
   "metadata": {},
   "source": [
    "# System dynamics"
   ]
  },
  {
   "cell_type": "code",
   "execution_count": null,
   "metadata": {},
   "outputs": [],
   "source": [
    "# State with limits.\n",
    "x = Variable.multivariate('x', 2)\n",
    "xlim = np.array([1, 1])\n",
    "xobj = xlim / 3\n",
    "x_m = [MonomialVector.make_polynomial(xi) for xi in x]\n",
    "xlim_m = [MonomialVector.make_polynomial(xlimi) for xlimi in xlim]\n",
    "X = [(xi + xlimi) * (xlimi - xi) for xi, xlimi in zip(x_m, xlim_m)]\n",
    "\n",
    "# Input with limits.\n",
    "u = Variable('u')\n",
    "ulim = 1\n",
    "u_m = MonomialVector.make_polynomial(u)\n",
    "ulim_m = MonomialVector.make_polynomial(ulim)\n",
    "U = (u_m + ulim_m) * (ulim_m - u_m)\n",
    "\n",
    "# Dynamics.\n",
    "f = [\n",
    "    2 * x_m[0] ** 3 + x_m[0] ** 2 * x_m[1] - 6 * x_m[0] * x_m[1] ** 2 + 5 * x_m[1] ** 3,\n",
    "    u_m\n",
    "]\n",
    "\n",
    "# Running cost.\n",
    "l = x_m[0] ** 2 + x_m[1] ** 2 + 5 * u_m ** 2"
   ]
  },
  {
   "cell_type": "markdown",
   "metadata": {},
   "source": [
    "# Lower bound on the value function (monomial basis)"
   ]
  },
  {
   "cell_type": "code",
   "execution_count": null,
   "metadata": {},
   "outputs": [],
   "source": [
    "def value_function_lower_bound(f, l, X, U, degree):\n",
    "    \n",
    "    # Set up SOS program.\n",
    "    prog = SosProgram()\n",
    "    vector_type = type(f[0].vectors()[0])\n",
    "    basis = vector_type.construct_basis(x, degree, odd=False)\n",
    "    J = prog.add_polynomial(basis)[0]\n",
    "\n",
    "    # Maximize volume beneath the value function.\n",
    "    Jint = J.definite_integral(x, - xobj, xobj)\n",
    "    prog.add_linear_cost(- Jint.to_scalar())\n",
    "\n",
    "    # S-procedure for the state limits.\n",
    "    basis = vector_type.construct_basis(x + [u], degree // 2)\n",
    "    Sprocedure = Polynomial({})\n",
    "    for Xi in X:\n",
    "        lamxi = prog.add_even_sos_polynomial(basis)[0]\n",
    "        Sprocedure += lamxi * Xi\n",
    "\n",
    "    # S-procedure for the input limits.\n",
    "    lamu = prog.add_even_sos_polynomial(basis)[0]\n",
    "    Sprocedure += lamu * U\n",
    "\n",
    "    # Bellman inequality.\n",
    "    Jdot = sum(J.derivative(xi) * f[i] for i, xi in enumerate(x))\n",
    "    prog.add_sos_constraint(Jdot + l - Sprocedure)\n",
    "\n",
    "    # Value function nonpositive in the origin.\n",
    "    prog.add_linear_constraint(J({xi: 0 for xi in x}) <= 0)\n",
    "\n",
    "    # Solve and retrieve result.\n",
    "    prog.solve()\n",
    "    Jlb = prog.substitute_minimizer(J)\n",
    "    obj = - prog.minimum()\n",
    "    \n",
    "    return Jlb, obj"
   ]
  },
  {
   "cell_type": "code",
   "execution_count": null,
   "metadata": {},
   "outputs": [],
   "source": [
    "# Solve for increasing degree.\n",
    "degrees = np.arange(1, 6) * 2\n",
    "Jlb = {d: value_function_lower_bound(f, l, X, U, d) for d in degrees}"
   ]
  },
  {
   "cell_type": "code",
   "execution_count": null,
   "metadata": {},
   "outputs": [],
   "source": [
    "# Plot solution.\n",
    "def plot_value_function(Jlb):\n",
    "    for d in degrees:\n",
    "        plt.figure()\n",
    "        label = r'$J_{\\mathrm{lb}}$'\n",
    "        title = f'Degree {d} (objective {round(Jlb[d][1], 3)})'\n",
    "        level_plot(Jlb[d][0], - xobj, xobj, zlabel=label, title=title)\n",
    "plot_value_function(Jlb)"
   ]
  },
  {
   "cell_type": "markdown",
   "metadata": {},
   "source": [
    "# Lower bound on the value function (Chebyshev basis)"
   ]
  },
  {
   "cell_type": "code",
   "execution_count": null,
   "metadata": {},
   "outputs": [],
   "source": [
    "# Translate polynomial data in Chebyshev basis.\n",
    "f_c = [fi.in_chebyshev_basis() for fi in f]\n",
    "l_c = l.in_chebyshev_basis()\n",
    "X_c = [Xi.in_chebyshev_basis() for Xi in X]\n",
    "U_c = U.in_chebyshev_basis()\n",
    "\n",
    "# Solve for increasing degree.\n",
    "Jlb_c = {d: value_function_lower_bound(f_c, l_c, X_c, U_c, d) for d in degrees}"
   ]
  },
  {
   "cell_type": "code",
   "execution_count": null,
   "metadata": {},
   "outputs": [],
   "source": [
    "# Plot solution with Chebyshev basis.\n",
    "plot_value_function(Jlb_c)"
   ]
  }
 ],
 "metadata": {
  "kernelspec": {
   "display_name": "Python 3",
   "language": "python",
   "name": "python3"
  },
  "language_info": {
   "codemirror_mode": {
    "name": "ipython",
    "version": 3
   },
   "file_extension": ".py",
   "mimetype": "text/x-python",
   "name": "python",
   "nbconvert_exporter": "python",
   "pygments_lexer": "ipython3",
   "version": "3.8.4"
  }
 },
 "nbformat": 4,
 "nbformat_minor": 4
}
