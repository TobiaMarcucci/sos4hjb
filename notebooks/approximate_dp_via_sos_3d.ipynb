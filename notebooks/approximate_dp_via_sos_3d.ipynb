{
 "cells": [
  {
   "cell_type": "code",
   "execution_count": null,
   "metadata": {},
   "outputs": [],
   "source": [
    "import numpy as np\n",
    "import matplotlib.pyplot as plt\n",
    "from sos4hjb.polynomials import Variable, MonomialVector, ChebyshevVector, Polynomial\n",
    "from sos4hjb.optimization.drake import SosProgram\n",
    "from sos4hjb.plot_utils import level_plot"
   ]
  },
  {
   "cell_type": "markdown",
   "metadata": {},
   "source": [
    "# System dynamics"
   ]
  },
  {
   "cell_type": "code",
   "execution_count": null,
   "metadata": {},
   "outputs": [],
   "source": [
    "# State with limits.\n",
    "x = Variable.multivariate('x', 3)\n",
    "xlim = np.array([1, 1, 1])\n",
    "xobj = xlim / 3\n",
    "x_m = [MonomialVector.make_polynomial(xi) for xi in x]\n",
    "xlim_m = [MonomialVector.make_polynomial(xlimi) for xlimi in xlim]\n",
    "X = [(xi + xlimi) * (xlimi - xi) for xi, xlimi in zip(x_m, xlim_m)]\n",
    "\n",
    "# Input with limits.\n",
    "u = Variable.multivariate('u', 2)\n",
    "ulim = np.array([1, 1])\n",
    "u_m = [MonomialVector.make_polynomial(ui) for ui in u]\n",
    "ulim_m = [MonomialVector.make_polynomial(ulimi) for ulimi in ulim]\n",
    "U = [(ui + ulimi) * (ulimi - ui) for ui, ulimi in zip(u_m, ulim_m)]\n",
    "\n",
    "# Dynamics.\n",
    "f = [\n",
    "    u_m[0],\n",
    "    u_m[1],\n",
    "    u_m[0] * x_m[1] - u_m[1] * x_m[0]\n",
    "]\n",
    "\n",
    "# Running cost.\n",
    "l = x_m[0] ** 2 + x_m[1] ** 2 + x_m[2] ** 2 + u_m[0] ** 2 + u_m[1] ** 2"
   ]
  },
  {
   "cell_type": "markdown",
   "metadata": {},
   "source": [
    "# Lower bound on the value function (monomial basis)"
   ]
  },
  {
   "cell_type": "code",
   "execution_count": null,
   "metadata": {},
   "outputs": [],
   "source": [
    "def value_function_lb(f, l, X, U, degree):\n",
    "\n",
    "    # Set up SOS program.\n",
    "    prog = SosProgram()\n",
    "    vector_type = type(f[0].vectors()[0])\n",
    "    basis = vector_type.construct_basis(x, degree)#, odd=False)\n",
    "    J = prog.add_polynomial(basis)[0]\n",
    "\n",
    "    # Maximize volume beneath the value function.\n",
    "    Jint = J.definite_integral(x, - xobj, xobj)\n",
    "    prog.add_linear_cost(- Jint.to_scalar())\n",
    "\n",
    "    # S-procedure for the state limits.\n",
    "    basis = vector_type.construct_basis(x + u, degree // 2)\n",
    "    Sprocedure = Polynomial({})\n",
    "    for Xi in X:\n",
    "        lamxi = prog.add_sos_polynomial(basis)[0] # NewEvenDegreeSosPolynomial\n",
    "        Sprocedure += lamxi * Xi\n",
    "\n",
    "    # S-procedure for the input limits.\n",
    "    for Ui in U:\n",
    "        lamui = prog.add_sos_polynomial(basis)[0] # NewEvenDegreeSosPolynomial\n",
    "        Sprocedure += lamui * Ui\n",
    "\n",
    "    # Bellman inequality.\n",
    "    Jdot = sum(J.derivative(xi) * f[i] for i, xi in enumerate(x))\n",
    "    prog.add_sos_constraint(Jdot + l - Sprocedure)\n",
    "\n",
    "    # Value function nonpositive in the origin.\n",
    "    prog.add_linear_constraint(J({xi: 0 for xi in x}) <= 0)\n",
    "\n",
    "    # Solve and retrieve result.\n",
    "    prog.solve()\n",
    "    Jlb = prog.substitute_minimizer(J)\n",
    "    obj = - prog.minimum()\n",
    "    \n",
    "    return Jlb, obj"
   ]
  },
  {
   "cell_type": "code",
   "execution_count": null,
   "metadata": {},
   "outputs": [],
   "source": [
    "# Solve for increasing degree.\n",
    "degrees = np.arange(1, 4) * 2\n",
    "Jlb = {d: value_function_lb(f, l, X, U, d) for d in degrees}"
   ]
  },
  {
   "cell_type": "code",
   "execution_count": null,
   "metadata": {},
   "outputs": [],
   "source": [
    "# Plot value-function sections.\n",
    "def plot_value_function(Jlb):\n",
    "    for d in degrees:\n",
    "        for i, xi in enumerate(x):\n",
    "            Jlb_i = Jlb[d][0].substitute({xi: 0})\n",
    "            xobj_i = np.delete(xobj, i)\n",
    "            plt.figure()\n",
    "            x_but_i = [xj for xj in x if xj != xi]\n",
    "            xlabel = f'${x_but_i[0]}$'\n",
    "            ylabel = f'${x_but_i[1]}$'\n",
    "            zlabel = r'$J_{\\mathrm{lb}}$'\n",
    "            title = f'Degree {d}, section ${xi}=0$ (objective {round(Jlb[d][1], 3)})'\n",
    "            level_plot(Jlb_i, - xobj_i, xobj_i, title=title,\n",
    "                       xlabel=xlabel, ylabel=ylabel, zlabel=zlabel)\n",
    "plot_value_function(Jlb)"
   ]
  },
  {
   "cell_type": "markdown",
   "metadata": {},
   "source": [
    "# Lower bound on the value function (Chebyshev basis)"
   ]
  },
  {
   "cell_type": "code",
   "execution_count": null,
   "metadata": {},
   "outputs": [],
   "source": [
    "# Translate polynomial data in Chebyshev basis.\n",
    "f_c = [fi.in_chebyshev_basis() for fi in f]\n",
    "l_c = l.in_chebyshev_basis()\n",
    "X_c = [Xi.in_chebyshev_basis() for Xi in X]\n",
    "U_c = [Ui.in_chebyshev_basis() for Ui in U]\n",
    "\n",
    "# Solve for increasing degree.\n",
    "Jlb_c = {d: value_function_lb(f_c, l_c, X_c, U_c, d) for d in degrees}"
   ]
  },
  {
   "cell_type": "code",
   "execution_count": null,
   "metadata": {},
   "outputs": [],
   "source": [
    "# Plot value-function sections with Chebyshev basis.\n",
    "plot_value_function(Jlb_c)"
   ]
  }
 ],
 "metadata": {
  "kernelspec": {
   "display_name": "Python 3",
   "language": "python",
   "name": "python3"
  },
  "language_info": {
   "codemirror_mode": {
    "name": "ipython",
    "version": 3
   },
   "file_extension": ".py",
   "mimetype": "text/x-python",
   "name": "python",
   "nbconvert_exporter": "python",
   "pygments_lexer": "ipython3",
   "version": "3.8.4"
  }
 },
 "nbformat": 4,
 "nbformat_minor": 4
}
