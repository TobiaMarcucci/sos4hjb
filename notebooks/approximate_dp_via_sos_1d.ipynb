{
 "cells": [
  {
   "cell_type": "code",
   "execution_count": null,
   "metadata": {},
   "outputs": [],
   "source": [
    "import numpy as np\n",
    "import matplotlib.pyplot as plt\n",
    "import matplotlib.colors as mcolors\n",
    "from sos4hjb.polynomials import Variable, MonomialVector, ChebyshevVector, Polynomial\n",
    "from sos4hjb.optimization.cvx import SosProgram"
   ]
  },
  {
   "cell_type": "markdown",
   "metadata": {},
   "source": [
    "# System dynamics"
   ]
  },
  {
   "cell_type": "code",
   "execution_count": null,
   "metadata": {},
   "outputs": [],
   "source": [
    "# State with limits.\n",
    "x = Variable('x')\n",
    "xlim = 1\n",
    "x_m = MonomialVector.make_polynomial(x)\n",
    "xlim_m = MonomialVector.make_polynomial(xlim)\n",
    "X = (x_m + xlim_m) * (xlim_m - x_m)\n",
    "\n",
    "# Input with limits.\n",
    "u = Variable('u')\n",
    "ulim = 1\n",
    "u_m = MonomialVector.make_polynomial(u)\n",
    "ulim_m = MonomialVector.make_polynomial(ulim)\n",
    "U = (u_m + ulim_m) * (ulim_m - u_m)\n",
    "\n",
    "# Scalar dynamics.\n",
    "fx = x_m - 4 * x_m ** 3\n",
    "fu = MonomialVector.make_polynomial(1)\n",
    "f = fx + fu * u_m\n",
    "\n",
    "# Running cost.\n",
    "Q = 1\n",
    "R = 1\n",
    "lx = Q * x_m ** 2\n",
    "lu = R * u_m ** 2\n",
    "l = lx + lu"
   ]
  },
  {
   "cell_type": "code",
   "execution_count": null,
   "metadata": {},
   "outputs": [],
   "source": [
    "# Utility function to plot polynomials of x.\n",
    "def plot_polynomial(y, *args, **kwargs):\n",
    "    y_values = [y({x: xi}) for xi in x_breaks]\n",
    "    plt.plot(x_breaks, y_values, *args, **kwargs)\n",
    "    plt.grid(True)\n",
    "    plt.xlabel(r'$x$')\n",
    "\n",
    "# Plot dynamics with zero input.\n",
    "x_breaks = np.linspace(- xlim, xlim)\n",
    "plt.figure()\n",
    "plot_polynomial(f.substitute({u: 0}))\n",
    "plt.ylabel(r'$f(x, u=0)$')"
   ]
  },
  {
   "cell_type": "markdown",
   "metadata": {},
   "source": [
    "# Lower bound on the value function (monomial basis)"
   ]
  },
  {
   "cell_type": "code",
   "execution_count": null,
   "metadata": {},
   "outputs": [],
   "source": [
    "def value_function_lower_bound(f, l, X, U, degree):\n",
    "\n",
    "    # Set up SOS program.\n",
    "    prog = SosProgram()\n",
    "    vector_type = type(f.vectors()[0])\n",
    "    basis = vector_type.construct_basis([x], degree, odd=False)\n",
    "    J = prog.add_polynomial(basis)[0]\n",
    "\n",
    "    # Maximize volume beneath the value function.\n",
    "    Jint = J.definite_integral([x], [- xlim], [xlim])\n",
    "    prog.add_linear_cost(- Jint.to_scalar())\n",
    "\n",
    "    # S-procedure for the state limits.\n",
    "    basis = vector_type.construct_basis([x, u], degree // 2)\n",
    "    lamx = prog.add_even_sos_polynomial(basis)[0]\n",
    "    Sprocedure = lamx * X\n",
    "\n",
    "    # S-procedure for the input limits.\n",
    "    lamu = prog.add_even_sos_polynomial(basis)[0]\n",
    "    Sprocedure += lamu * U\n",
    "\n",
    "    # Bellman inequality.\n",
    "    Jdot = J.derivative(x) * f\n",
    "    prog.add_sos_constraint(Jdot + l - Sprocedure)\n",
    "\n",
    "    # Value function nonpositive in the origin.\n",
    "    prog.add_linear_constraint(J({x: 0}) <= 0)\n",
    "\n",
    "    # Solve and retrieve result.\n",
    "    prog.solve()\n",
    "    Jlb = prog.substitute_minimizer(J)\n",
    "    obj = - prog.minimum()\n",
    "\n",
    "    return Jlb, obj"
   ]
  },
  {
   "cell_type": "code",
   "execution_count": null,
   "metadata": {},
   "outputs": [],
   "source": [
    "# Solve for increasing degree.\n",
    "degrees = np.arange(1, 11) * 2\n",
    "Jlb = {d: value_function_lower_bound(f, l, X, U, d) for d in degrees}"
   ]
  },
  {
   "cell_type": "code",
   "execution_count": null,
   "metadata": {},
   "outputs": [],
   "source": [
    "# Plot solution.\n",
    "plt.figure()\n",
    "for d in degrees:\n",
    "    label = f'Deg. {d}, obj. {round(Jlb[d][1], 3)}'\n",
    "    plot_polynomial(Jlb[d][0], label=label)\n",
    "    plt.ylabel(r'$J_{\\mathrm{lb}}$')\n",
    "    plt.title('Value-function lower bound (monomial basis)')\n",
    "    plt.legend()"
   ]
  },
  {
   "cell_type": "markdown",
   "metadata": {},
   "source": [
    "# Lower bound on the value function (Chebyshev basis)"
   ]
  },
  {
   "cell_type": "code",
   "execution_count": null,
   "metadata": {},
   "outputs": [],
   "source": [
    "# Translate polynomial data in Chebyshev basis.\n",
    "f_c = f.in_chebyshev_basis()\n",
    "l_c = l.in_chebyshev_basis()\n",
    "X_c = X.in_chebyshev_basis()\n",
    "U_c = U.in_chebyshev_basis()\n",
    "\n",
    "# Solve for increasing degree.\n",
    "Jlb_c = {d: value_function_lower_bound(f_c, l_c, X_c, U_c, d) for d in degrees}"
   ]
  },
  {
   "cell_type": "code",
   "execution_count": null,
   "metadata": {},
   "outputs": [],
   "source": [
    "# Plot solution.\n",
    "plt.figure()\n",
    "for d in degrees:\n",
    "    label = f'Deg. {d}, obj. {round(Jlb_c[d][1], 3)}'\n",
    "    plot_polynomial(Jlb_c[d][0], label=label)\n",
    "    plt.ylabel(r'$J_{\\mathrm{lb}}$')\n",
    "    plt.title('Value-function lower bound (Chebyshev basis)')\n",
    "    plt.legend()"
   ]
  },
  {
   "cell_type": "markdown",
   "metadata": {},
   "source": [
    "# Approximate policy"
   ]
  },
  {
   "cell_type": "code",
   "execution_count": null,
   "metadata": {},
   "outputs": [],
   "source": [
    "# Retrieve approximate policy.\n",
    "ulb = lambda Jlb: - .5 * R ** (-1) * fu * Jlb.derivative(x)\n",
    "ulb = {d: ulb(Jlb[d][0]) for d in degrees}\n",
    "\n",
    "# Plot approximate policy.\n",
    "plt.figure()\n",
    "for d in degrees:\n",
    "    label = f'Deg. {d}'\n",
    "    plot_polynomial(ulb[d], label=label)\n",
    "    plt.ylabel(r'$u_{\\mathrm{lb}}$')\n",
    "    plt.title('Approximate policy')\n",
    "    plt.legend()"
   ]
  },
  {
   "cell_type": "markdown",
   "metadata": {},
   "source": [
    "# Closed-loop dynamics"
   ]
  },
  {
   "cell_type": "code",
   "execution_count": null,
   "metadata": {},
   "outputs": [],
   "source": [
    "# Derive closed-loop dynamics.\n",
    "flb = {d: fx + fu * ulb[d] for d in degrees}\n",
    "\n",
    "# Plot closed-loop dynamics.\n",
    "plt.figure()\n",
    "for d in degrees:\n",
    "    label = f'Deg. {d}'\n",
    "    plot_polynomial(flb[d], label=label)\n",
    "    plt.ylabel(r'$f(x, u_{\\mathrm{lb}}(x))$')\n",
    "    plt.title('Closed-loop dynamics')\n",
    "    plt.legend()"
   ]
  },
  {
   "cell_type": "markdown",
   "metadata": {},
   "source": [
    "# Bellman inequality"
   ]
  },
  {
   "cell_type": "code",
   "execution_count": null,
   "metadata": {},
   "outputs": [],
   "source": [
    "# Evaluate residuals of Bellman inequality.\n",
    "llb = lambda ulb: lx + R * ulb ** 2\n",
    "bellman = lambda Jlb, ulb, flb: llb(ulb) + Jlb.derivative(x) * flb\n",
    "bellman = {d: bellman(Jlb[d][0], ulb[d], flb[d]) for d in degrees}\n",
    "llb = {d: llb(ulb[d]) for d in degrees}\n",
    "\n",
    "# Plot residuals of Bellman inequality.\n",
    "plt.figure()\n",
    "for d in degrees:\n",
    "    label = f'Deg. {d}'\n",
    "    plot_polynomial(bellman[d], label=label)\n",
    "    plt.ylabel(r'$l_{\\mathrm{lb}}(x) + \\dot{J}_{\\mathrm{lb}}(x)$')\n",
    "    plt.title('Residuals of the Bellman inequality')\n",
    "    plt.yscale('log')\n",
    "    plt.legend()"
   ]
  },
  {
   "cell_type": "markdown",
   "metadata": {},
   "source": [
    "# Upper bound on the value function (monomial basis)"
   ]
  },
  {
   "cell_type": "code",
   "execution_count": null,
   "metadata": {},
   "outputs": [],
   "source": [
    "def value_function_upper_bound(degree):\n",
    "\n",
    "    # Set up SOS program.\n",
    "    prog = SosProgram()\n",
    "    vector_type = type(f.vectors()[0])\n",
    "    basis = vector_type.construct_basis([x], degree, odd=False)\n",
    "    J = prog.add_polynomial(basis)[0]\n",
    "\n",
    "    # Minimize volume beneath the value function.\n",
    "    Jint = J.definite_integral([x], [- xlim], [xlim])\n",
    "    prog.add_linear_cost(Jint.to_scalar())\n",
    "\n",
    "    # S-procedure for the state limits.\n",
    "    basis = vector_type.construct_basis([x, u], degree // 2)\n",
    "    lamx = prog.add_even_sos_polynomial(basis)[0]\n",
    "    Sprocedure = lamx * X\n",
    "\n",
    "    # S-procedure for the input limits.\n",
    "    lamu = prog.add_even_sos_polynomial(basis)[0]\n",
    "    Sprocedure += lamu * U\n",
    "\n",
    "    # Dissipation inequality.\n",
    "    Jdot = J.derivative(x) * flb[degree]\n",
    "    prog.add_sos_constraint(- Jdot - llb[degree] - Sprocedure)\n",
    "\n",
    "    # Value function nonnegative in the origin.\n",
    "    prog.add_linear_constraint(J({x: 0}) >= 0)\n",
    "\n",
    "    # Solve and retrieve result.\n",
    "    prog.solve()\n",
    "    J_star = prog.substitute_minimizer(J)\n",
    "    obj = prog.minimum()\n",
    "\n",
    "    return J_star, obj"
   ]
  },
  {
   "cell_type": "code",
   "execution_count": null,
   "metadata": {},
   "outputs": [],
   "source": [
    "# Solve for increasing degree (only for the stabilized cases).\n",
    "Jub = {d: value_function_upper_bound(d) for d in degrees[1:]}"
   ]
  },
  {
   "cell_type": "code",
   "execution_count": null,
   "metadata": {},
   "outputs": [],
   "source": [
    "# Plot solution.\n",
    "plt.figure()\n",
    "colors = list(mcolors.TABLEAU_COLORS.values())\n",
    "for i, d in enumerate(degrees[1:]):\n",
    "    label = f'Deg. {d}'\n",
    "    plot_polynomial(Jlb[d][0], label=label, c=colors[i+1])\n",
    "    plot_polynomial(Jub[d][0], c=colors[i+1])\n",
    "    plt.ylabel(r'$J_{\\mathrm{lb}}$, $J_{\\mathrm{ub}}$')\n",
    "    plt.title('Value-function lower and upper bounds')\n",
    "    plt.legend()"
   ]
  }
 ],
 "metadata": {
  "kernelspec": {
   "display_name": "Python 3",
   "language": "python",
   "name": "python3"
  },
  "language_info": {
   "codemirror_mode": {
    "name": "ipython",
    "version": 3
   },
   "file_extension": ".py",
   "mimetype": "text/x-python",
   "name": "python",
   "nbconvert_exporter": "python",
   "pygments_lexer": "ipython3",
   "version": "3.8.4"
  }
 },
 "nbformat": 4,
 "nbformat_minor": 4
}
